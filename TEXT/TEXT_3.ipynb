{
 "cells": [
  {
   "cell_type": "code",
   "execution_count": 1,
   "metadata": {},
   "outputs": [],
   "source": [
    "import pandas as pd"
   ]
  },
  {
   "cell_type": "code",
   "execution_count": 34,
   "metadata": {},
   "outputs": [],
   "source": [
    "data = pd.read_csv(r\"E:\\EEG DATA\\train_ordered\\02_tcp_le\\Text_data\\text_meta.csv\")"
   ]
  },
  {
   "cell_type": "code",
   "execution_count": 35,
   "metadata": {},
   "outputs": [
    {
     "data": {
      "text/html": [
       "<div>\n",
       "<style scoped>\n",
       "    .dataframe tbody tr th:only-of-type {\n",
       "        vertical-align: middle;\n",
       "    }\n",
       "\n",
       "    .dataframe tbody tr th {\n",
       "        vertical-align: top;\n",
       "    }\n",
       "\n",
       "    .dataframe thead th {\n",
       "        text-align: right;\n",
       "    }\n",
       "</style>\n",
       "<table border=\"1\" class=\"dataframe\">\n",
       "  <thead>\n",
       "    <tr style=\"text-align: right;\">\n",
       "      <th></th>\n",
       "      <th>Unnamed: 0</th>\n",
       "      <th>edf_location</th>\n",
       "      <th>label</th>\n",
       "      <th>report</th>\n",
       "    </tr>\n",
       "  </thead>\n",
       "  <tbody>\n",
       "    <tr>\n",
       "      <th>0</th>\n",
       "      <td>0</td>\n",
       "      <td>E:/EEG DATA/train_ordered/02_tcp_le/Formatted/...</td>\n",
       "      <td>0</td>\n",
       "      <td>CLINICAL HISTORY 55yearold righthanded woman C...</td>\n",
       "    </tr>\n",
       "    <tr>\n",
       "      <th>1</th>\n",
       "      <td>1</td>\n",
       "      <td>E:/EEG DATA/train_ordered/02_tcp_le/Formatted/...</td>\n",
       "      <td>1</td>\n",
       "      <td>CLINICAL HISTORY 27yearold woman focal scleros...</td>\n",
       "    </tr>\n",
       "    <tr>\n",
       "      <th>2</th>\n",
       "      <td>2</td>\n",
       "      <td>E:/EEG DATA/train_ordered/02_tcp_le/Formatted/...</td>\n",
       "      <td>0</td>\n",
       "      <td>CLINICAL HISTORY 23yearold male history seizur...</td>\n",
       "    </tr>\n",
       "    <tr>\n",
       "      <th>3</th>\n",
       "      <td>3</td>\n",
       "      <td>E:/EEG DATA/train_ordered/02_tcp_le/Formatted/...</td>\n",
       "      <td>0</td>\n",
       "      <td>CLINICAL HISTORY 56 year old male small lacuna...</td>\n",
       "    </tr>\n",
       "    <tr>\n",
       "      <th>4</th>\n",
       "      <td>4</td>\n",
       "      <td>E:/EEG DATA/train_ordered/02_tcp_le/Formatted/...</td>\n",
       "      <td>0</td>\n",
       "      <td>CLINICAL HISTORY 56 year old male small lacuna...</td>\n",
       "    </tr>\n",
       "  </tbody>\n",
       "</table>\n",
       "</div>"
      ],
      "text/plain": [
       "   Unnamed: 0                                       edf_location  label  \\\n",
       "0           0  E:/EEG DATA/train_ordered/02_tcp_le/Formatted/...      0   \n",
       "1           1  E:/EEG DATA/train_ordered/02_tcp_le/Formatted/...      1   \n",
       "2           2  E:/EEG DATA/train_ordered/02_tcp_le/Formatted/...      0   \n",
       "3           3  E:/EEG DATA/train_ordered/02_tcp_le/Formatted/...      0   \n",
       "4           4  E:/EEG DATA/train_ordered/02_tcp_le/Formatted/...      0   \n",
       "\n",
       "                                              report  \n",
       "0  CLINICAL HISTORY 55yearold righthanded woman C...  \n",
       "1  CLINICAL HISTORY 27yearold woman focal scleros...  \n",
       "2  CLINICAL HISTORY 23yearold male history seizur...  \n",
       "3  CLINICAL HISTORY 56 year old male small lacuna...  \n",
       "4  CLINICAL HISTORY 56 year old male small lacuna...  "
      ]
     },
     "execution_count": 35,
     "metadata": {},
     "output_type": "execute_result"
    }
   ],
   "source": [
    "data.head()"
   ]
  },
  {
   "cell_type": "code",
   "execution_count": null,
   "metadata": {},
   "outputs": [],
   "source": []
  },
  {
   "cell_type": "code",
   "execution_count": null,
   "metadata": {},
   "outputs": [],
   "source": []
  },
  {
   "cell_type": "code",
   "execution_count": 39,
   "metadata": {},
   "outputs": [
    {
     "name": "stdout",
     "output_type": "stream",
     "text": [
      "(181, 4235)\n",
      "[[0. 0. 0. ... 0. 0. 0.]\n",
      " [0. 0. 0. ... 0. 0. 0.]\n",
      " [0. 0. 0. ... 0. 0. 0.]\n",
      " ...\n",
      " [0. 0. 0. ... 0. 0. 0.]\n",
      " [0. 0. 0. ... 0. 0. 0.]\n",
      " [0. 0. 0. ... 0. 0. 0.]]\n"
     ]
    }
   ],
   "source": [
    "from sklearn.feature_extraction.text import TfidfVectorizer\n",
    "\n",
    "#data['report'] = data['report'].apply(lambda string: [string])\n",
    "#data['report']=[\" \".join(review) for review in data['report'].values]\n",
    "\n",
    "# create the transform\n",
    "vectorizer = TfidfVectorizer()\n",
    "\n",
    "# tokenize and build vocab\n",
    "vectorizer.fit(data['report'])\n",
    "\n",
    "# encode document\n",
    "vector = vectorizer.transform(data['report'])\n",
    "\n",
    "# summarize encoded vector\n",
    "print(vector.shape)\n",
    "print(vector.toarray())"
   ]
  },
  {
   "cell_type": "code",
   "execution_count": 42,
   "metadata": {},
   "outputs": [],
   "source": [
    "from sklearn.model_selection import train_test_split\n",
    "X_train, X_test, y_train, y_test = train_test_split(vector, data['label'], test_size=0.2, random_state=1)"
   ]
  },
  {
   "cell_type": "code",
   "execution_count": 61,
   "metadata": {},
   "outputs": [
    {
     "name": "stdout",
     "output_type": "stream",
     "text": [
      "_________________________________________________________________\n",
      "Layer (type)                 Output Shape              Param #   \n",
      "=================================================================\n",
      "embedding_10 (Embedding)     (None, 4235, 32)          135520    \n",
      "_________________________________________________________________\n",
      "lstm_15 (LSTM)               (None, 500)               1066000   \n",
      "_________________________________________________________________\n",
      "dense_9 (Dense)              (None, 1)                 501       \n",
      "=================================================================\n",
      "Total params: 1,202,021\n",
      "Trainable params: 1,202,021\n",
      "Non-trainable params: 0\n",
      "_________________________________________________________________\n",
      "None\n"
     ]
    }
   ],
   "source": [
    "from keras.models import Sequential\n",
    "from keras.layers import Dense\n",
    "from keras.layers import LSTM\n",
    "from keras.layers.embeddings import Embedding\n",
    "\n",
    "model=Sequential()\n",
    "model.add(Embedding(vector.shape[1], 32, input_length = vector.shape[1]))\n",
    "model.add(LSTM(500))\n",
    "model.add(Dense(1, activation = 'sigmoid'))\n",
    "model.compile(loss='binary_crossentropy', optimizer='adam', metrics=['accuracy'])\n",
    "\n",
    "print(model.summary())"
   ]
  },
  {
   "cell_type": "code",
   "execution_count": null,
   "metadata": {},
   "outputs": [
    {
     "name": "stdout",
     "output_type": "stream",
     "text": [
      "Epoch 1/3\n",
      "144/144 [==============================] - 535s 4s/step - loss: 0.6866 - acc: 0.5694\n",
      "Epoch 2/3\n",
      "144/144 [==============================] - 483s 3s/step - loss: 0.6836 - acc: 0.5833\n",
      "Epoch 3/3\n",
      "110/144 [=====================>........] - ETA: 1:54 - loss: 0.6838 - acc: 0.5727"
     ]
    }
   ],
   "source": [
    "model.fit(X_train, y_train, epochs=3, batch_size=10)"
   ]
  },
  {
   "cell_type": "code",
   "execution_count": null,
   "metadata": {},
   "outputs": [],
   "source": [
    "result = model.evaluate(X_test, y_test)"
   ]
  },
  {
   "cell_type": "code",
   "execution_count": null,
   "metadata": {},
   "outputs": [],
   "source": [
    "result[0]"
   ]
  },
  {
   "cell_type": "code",
   "execution_count": null,
   "metadata": {},
   "outputs": [],
   "source": [
    "result[1]"
   ]
  },
  {
   "cell_type": "code",
   "execution_count": null,
   "metadata": {},
   "outputs": [],
   "source": []
  }
 ],
 "metadata": {
  "kernelspec": {
   "display_name": "Python 3",
   "language": "python",
   "name": "python3"
  },
  "language_info": {
   "codemirror_mode": {
    "name": "ipython",
    "version": 3
   },
   "file_extension": ".py",
   "mimetype": "text/x-python",
   "name": "python",
   "nbconvert_exporter": "python",
   "pygments_lexer": "ipython3",
   "version": "3.6.5"
  }
 },
 "nbformat": 4,
 "nbformat_minor": 2
}

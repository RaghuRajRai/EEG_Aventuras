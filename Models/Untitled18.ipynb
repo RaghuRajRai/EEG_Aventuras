{
 "cells": [
  {
   "cell_type": "code",
   "execution_count": 1,
   "metadata": {},
   "outputs": [
    {
     "name": "stderr",
     "output_type": "stream",
     "text": [
      "Using TensorFlow backend.\n"
     ]
    }
   ],
   "source": [
    "import pandas as pd\n",
    "from keras.preprocessing.sequence import pad_sequences\n",
    "from tqdm._tqdm_notebook import tqdm_notebook"
   ]
  },
  {
   "cell_type": "code",
   "execution_count": 2,
   "metadata": {},
   "outputs": [
    {
     "data": {
      "text/html": [
       "<div>\n",
       "<style scoped>\n",
       "    .dataframe tbody tr th:only-of-type {\n",
       "        vertical-align: middle;\n",
       "    }\n",
       "\n",
       "    .dataframe tbody tr th {\n",
       "        vertical-align: top;\n",
       "    }\n",
       "\n",
       "    .dataframe thead th {\n",
       "        text-align: right;\n",
       "    }\n",
       "</style>\n",
       "<table border=\"1\" class=\"dataframe\">\n",
       "  <thead>\n",
       "    <tr style=\"text-align: right;\">\n",
       "      <th></th>\n",
       "      <th>Unnamed: 0</th>\n",
       "      <th>locations</th>\n",
       "      <th>label</th>\n",
       "    </tr>\n",
       "  </thead>\n",
       "  <tbody>\n",
       "    <tr>\n",
       "      <th>0</th>\n",
       "      <td>0</td>\n",
       "      <td>E:/EEG Analysis/train/0.csv</td>\n",
       "      <td>0</td>\n",
       "    </tr>\n",
       "    <tr>\n",
       "      <th>1</th>\n",
       "      <td>1</td>\n",
       "      <td>E:/EEG Analysis/train/1.csv</td>\n",
       "      <td>0</td>\n",
       "    </tr>\n",
       "    <tr>\n",
       "      <th>2</th>\n",
       "      <td>2</td>\n",
       "      <td>E:/EEG Analysis/train/2.csv</td>\n",
       "      <td>0</td>\n",
       "    </tr>\n",
       "    <tr>\n",
       "      <th>3</th>\n",
       "      <td>3</td>\n",
       "      <td>E:/EEG Analysis/train/3.csv</td>\n",
       "      <td>0</td>\n",
       "    </tr>\n",
       "    <tr>\n",
       "      <th>4</th>\n",
       "      <td>4</td>\n",
       "      <td>E:/EEG Analysis/train/4.csv</td>\n",
       "      <td>0</td>\n",
       "    </tr>\n",
       "  </tbody>\n",
       "</table>\n",
       "</div>"
      ],
      "text/plain": [
       "   Unnamed: 0                    locations  label\n",
       "0           0  E:/EEG Analysis/train/0.csv      0\n",
       "1           1  E:/EEG Analysis/train/1.csv      0\n",
       "2           2  E:/EEG Analysis/train/2.csv      0\n",
       "3           3  E:/EEG Analysis/train/3.csv      0\n",
       "4           4  E:/EEG Analysis/train/4.csv      0"
      ]
     },
     "execution_count": 2,
     "metadata": {},
     "output_type": "execute_result"
    }
   ],
   "source": [
    "data = pd.read_csv(r\"E:\\EEG Analysis\\metas\\train.csv\")\n",
    "data.head()"
   ]
  },
  {
   "cell_type": "markdown",
   "metadata": {},
   "source": [
    "## Read each file, break it into a 1 second window(1000 readings)\n",
    "### Store the new file into a new csv with the same label of it's parent. \n",
    "### Create a new dataframe with the info related to the same"
   ]
  },
  {
   "cell_type": "code",
   "execution_count": 13,
   "metadata": {},
   "outputs": [],
   "source": [
    "def check_times(location):\n",
    "    data = pd.read_csv(location, header=None)\n",
    "    print(data.shape)\n",
    "    \n",
    "#data['locations'].apply(lambda x: check_times(x))"
   ]
  },
  {
   "cell_type": "markdown",
   "metadata": {},
   "source": [
    "### We observe that the length of each data file is not divisible by 1000. So we'll need to pad the sequences"
   ]
  },
  {
   "cell_type": "code",
   "execution_count": 50,
   "metadata": {},
   "outputs": [],
   "source": [
    "#Function to read the dataframe and create new files\n",
    "def break_and_create(location, n):\n",
    "    data = pd.read_csv(location, header=None)\n",
    "    #Number of observations in the data file\n",
    "    shape = int(data.shape[1])\n",
    "    #Number of divisions to be made\n",
    "    div = 0\n",
    "    if shape%1000 == 0:\n",
    "        div = int(shape/1000)\n",
    "    else:\n",
    "        div = int(shape/1000)+1\n",
    "    #Breaking each file and saving to a a new folder\n",
    "    start = 0\n",
    "    end = 1000\n",
    "    count = n\n",
    "    for i in range(div):\n",
    "        if end <= shape:\n",
    "            new_data = data.iloc[:,start:end]\n",
    "            save_location = \"E:/EEG Analysis/train_molecular/\"+str(count)+\".csv\"\n",
    "            new_data.to_csv(save_location)\n",
    "            start = start+1000\n",
    "            end = end+1000\n",
    "            count = count+1\n",
    "        else:\n",
    "            new_data = data.iloc[:,start:]\n",
    "            new_data = new_data.values\n",
    "            new_data = pad_sequences(new_data, padding='post', maxlen=1000)\n",
    "            save_location = \"E:/EEG Analysis/train_molecular/\"+str(count)+\".csv\"\n",
    "            new = pd.DataFrame(new_data)\n",
    "            new.to_csv(save_location)\n",
    "            count = count+1\n",
    "    return count"
   ]
  },
  {
   "cell_type": "code",
   "execution_count": 56,
   "metadata": {},
   "outputs": [
    {
     "data": {
      "application/vnd.jupyter.widget-view+json": {
       "model_id": "590892ff129a4d20ab6bf890f3636cf3",
       "version_major": 2,
       "version_minor": 0
      },
      "text/plain": [
       "HBox(children=(IntProgress(value=0, max=508), HTML(value='')))"
      ]
     },
     "metadata": {},
     "output_type": "display_data"
    },
    {
     "data": {
      "text/plain": [
       "<bound method tqdm_notebook.close of 508/|/100%|| 508/508 [3:51:00<00:00, 32.27s/it]>"
      ]
     },
     "execution_count": 56,
     "metadata": {},
     "output_type": "execute_result"
    }
   ],
   "source": [
    "#create new labels and data set\n",
    "count = 0\n",
    "labels = []\n",
    "pbar = tqdm_notebook(total=data.shape[0])\n",
    "for i in range(data.shape[0]):\n",
    "    old = count\n",
    "    count = break_and_create(data['locations'][i] ,count)\n",
    "    for j in range(old, count):\n",
    "        labels.append(data['label'][i])\n",
    "    pbar.update(1)\n",
    "pbar.close"
   ]
  },
  {
   "cell_type": "code",
   "execution_count": null,
   "metadata": {},
   "outputs": [],
   "source": []
  },
  {
   "cell_type": "code",
   "execution_count": null,
   "metadata": {},
   "outputs": [],
   "source": []
  },
  {
   "cell_type": "code",
   "execution_count": null,
   "metadata": {},
   "outputs": [],
   "source": []
  },
  {
   "cell_type": "code",
   "execution_count": null,
   "metadata": {},
   "outputs": [],
   "source": []
  },
  {
   "cell_type": "code",
   "execution_count": null,
   "metadata": {},
   "outputs": [],
   "source": []
  },
  {
   "cell_type": "code",
   "execution_count": null,
   "metadata": {},
   "outputs": [],
   "source": []
  },
  {
   "cell_type": "code",
   "execution_count": null,
   "metadata": {},
   "outputs": [],
   "source": []
  }
 ],
 "metadata": {
  "kernelspec": {
   "display_name": "Python 3",
   "language": "python",
   "name": "python3"
  },
  "language_info": {
   "codemirror_mode": {
    "name": "ipython",
    "version": 3
   },
   "file_extension": ".py",
   "mimetype": "text/x-python",
   "name": "python",
   "nbconvert_exporter": "python",
   "pygments_lexer": "ipython3",
   "version": "3.6.5"
  }
 },
 "nbformat": 4,
 "nbformat_minor": 2
}

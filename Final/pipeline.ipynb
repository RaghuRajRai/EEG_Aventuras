{
 "cells": [
  {
   "cell_type": "markdown",
   "metadata": {},
   "source": [
    "# BrainMelody - A moving window seizure classifier powered by Neural Nets \n",
    "## Pipeline for Seizure Classification\n",
    "### Place the EDF file in the 'EDF' folder, name it as: \"evaluate.edf\"\n",
    "### Place the medical report in the 'Report' folder, name it as: \"report.txt\"\n",
    "### Place the tse_bi file in 'Report' folder, name it as: \"tse.tse_bi\"\n",
    "### Run predict() function"
   ]
  },
  {
   "cell_type": "code",
   "execution_count": 232,
   "metadata": {},
   "outputs": [],
   "source": [
    "import pandas as pd\n",
    "import numpy as np\n",
    "import keras\n",
    "from keras.models import load_model\n",
    "import pyedflib\n",
    "import string\n",
    "import nltk\n",
    "from tqdm._tqdm_notebook import tqdm_notebook\n",
    "tqdm_notebook.pandas()\n",
    "from nltk.stem.wordnet import WordNetLemmatizer\n",
    "from nltk.corpus import wordnet\n",
    "from sklearn.feature_extraction.text import TfidfVectorizer\n",
    "from keras.models import Sequential\n",
    "from keras.preprocessing.text import Tokenizer\n",
    "from keras.preprocessing.sequence import pad_sequences\n",
    "from keras.models import Sequential, Model\n",
    "from keras.layers import Dense, Flatten, LSTM, Conv1D, MaxPooling1D, Dropout, Activation\n",
    "from keras.layers.embeddings import Embedding\n",
    "from keras import optimizers\n",
    "from keras.layers import Input\n",
    "from keras.callbacks import EarlyStopping\n",
    "import nltk\n",
    "from nltk.tokenize import sent_tokenize\n",
    "from nltk.tokenize import word_tokenize\n",
    "from nltk.corpus import stopwords\n",
    "from nltk.stem.porter import PorterStemmer\n",
    "from nltk.stem.wordnet import WordNetLemmatizer\n",
    "from nltk.tokenize import sent_tokenize, word_tokenize\n",
    "from sklearn.naive_bayes import MultinomialNB\n",
    "from sklearn import metrics\n",
    "import string\n",
    "import matplotlib.pyplot as plt\n",
    "%matplotlib inline\n",
    "import os"
   ]
  },
  {
   "cell_type": "code",
   "execution_count": 33,
   "metadata": {},
   "outputs": [],
   "source": [
    "# Function to convert edf to csv files and store them in the given folder with the index name\n",
    "def edf_to_csv(link):\n",
    "    #Loading the edf file\n",
    "    edf = pyedflib.EdfReader(link)\n",
    "    #Reading data from the file into a numpy array\n",
    "    n = edf.signals_in_file\n",
    "    signal_labels = edf.getSignalLabels()\n",
    "    sigbufs = np.zeros((n, edf.getNSamples()[0]))\n",
    "    for i in np.arange(n):\n",
    "        sigbufs[i, :] = edf.readSignal(i)\n",
    "    #Converting the numpy array to Dataframe\n",
    "    df = pd.DataFrame(sigbufs)\n",
    "    df = df.iloc[0:32,:]\n",
    "    #Storing the dataframe to csv\n",
    "    df.to_csv(r\"E:\\EEG Analysis\\CLASSIFIER\\scrape\\reformatted_main.csv\", header=None, index=False)\n",
    "    #Closing the file\n",
    "    edf._close()\n",
    "    del(edf)\n",
    "    \n",
    "def break_and_create():\n",
    "    data = pd.read_csv(r\"E:\\EEG Analysis\\CLASSIFIER\\scrape\\reformatted_main.csv\", header=None)\n",
    "    #Number of observations in the data file\n",
    "    shape = int(data.shape[1])\n",
    "    #Number of divisions to be made\n",
    "    div = 0\n",
    "    if shape%1000 == 0:\n",
    "        div = int(shape/1000)\n",
    "    else:\n",
    "        div = int(shape/1000)+1\n",
    "    #Breaking each file and saving to a a new folder\n",
    "    start = 0\n",
    "    end = 1000\n",
    "    count = 0\n",
    "    for i in range(div):\n",
    "        if end <= shape:\n",
    "            new_data = data.iloc[:,start:end]\n",
    "            save_location = \"E:/EEG Analysis/CLASSIFIER/scrape/\"+str(count)+\".csv\"\n",
    "            new_data.to_csv(save_location)\n",
    "            start = start+1000\n",
    "            end = end+1000\n",
    "            count = count+1\n",
    "        else:\n",
    "            new_data = data.iloc[:,start:]\n",
    "            new_data = new_data.values\n",
    "            new_data = pad_sequences(new_data, padding='post', maxlen=1000)\n",
    "            save_location = \"E:/EEG Analysis/CLASSIFIER/scrape/\"+str(count)+\".csv\"\n",
    "            new = pd.DataFrame(new_data)\n",
    "            new.to_csv(save_location)\n",
    "            count = count+1\n",
    "    return count"
   ]
  },
  {
   "cell_type": "code",
   "execution_count": 228,
   "metadata": {},
   "outputs": [],
   "source": [
    "#Function to plot the probabilities of seizure\n",
    "def plot_window(probs, time):\n",
    "    arr = []\n",
    "    for i in probs:\n",
    "        arr.append(probs*1000)\n",
    "    plt.figure(figsize=(10,10))\n",
    "    plt.plot(arr, 'o', color = 'blue')\n",
    "    plt.plot([0, time], [50, 50], 'k-', lw=1, color = 'green')\n",
    "    plt.axis([0, time, 0, 100])\n",
    "    plt.title(\"Seizure Probabilities for each second\")\n",
    "    plt.xlabel('Time')\n",
    "    plt.ylabel('Probability in %')\n",
    "    plt.show()\n",
    "       \n",
    "def iterate_second_windows(time, model):\n",
    "    folder_location = \"E:/EEG Analysis/CLASSIFIER/scrape/\"\n",
    "    file_count = time\n",
    "    probs = []\n",
    "    print(\"Processing EDF file. . .\")\n",
    "    pbar = tqdm_notebook(total=time)\n",
    "    for i in range(time):\n",
    "        data = pd.read_csv(folder_location+str(i)+\".csv\", header=None)\n",
    "        data = data.iloc[1:,1:]\n",
    "        data = data.values\n",
    "        data = data.reshape((1, 32, 1000))\n",
    "        res = model.predict(data)\n",
    "        probs.append(res[0][0])\n",
    "        pbar.update(1)\n",
    "    pbar.close()\n",
    "    return probs"
   ]
  },
  {
   "cell_type": "code",
   "execution_count": 229,
   "metadata": {},
   "outputs": [],
   "source": [
    "def process_text(report_location):\n",
    "    model = load_model('E:/EEG Analysis/CLASSIFIER/text_model.h5')\n",
    "    file = open(report_location, encoding='utf-8') \n",
    "    text = file.read() \n",
    "    print(\"The report is: \", text)\n",
    "    text = text.lower()\n",
    "    exclude = set(string.punctuation)\n",
    "    text = ''.join(ch for ch in text if ch not in exclude)\n",
    "    stemmer = PorterStemmer()\n",
    "    words = word_tokenize(text)\n",
    "    new_txt = []\n",
    "    for word in words:\n",
    "        new_txt.append(stemmer.stem(word))\n",
    "    text = ' '.join(new_txt)\n",
    "    data = pd.read_csv(r\"E:\\EEG DATA\\train_ordered\\02_tcp_le\\Text_data\\text_meta.csv\")\n",
    "    vectorizer = TfidfVectorizer(max_features=3561, max_df=0.9)\n",
    "    vectorizer.fit(data['report'])\n",
    "    vector = vectorizer.transform([text])\n",
    "    result = model.predict_proba(vector)\n",
    "    result = result[0]*100\n",
    "    print(str(result),\"% chances of Seizure estimated.\")\n",
    "    return result\n",
    "    \n",
    "def process_edf(edf_location):\n",
    "    model = load_model('E:/EEG Analysis/CLASSIFIER/edf_model.h5')\n",
    "    scrape_folder = \"E:/EEG Analysis/CLASSIFIER/scrape\"\n",
    "    edf_to_csv(edf_location)\n",
    "    time = break_and_create()\n",
    "    print(str(time), \"seconds of data recorded.\")\n",
    "    probs = []\n",
    "    probs = iterate_second_windows(time, model)\n",
    "    plot_window(probs, time)"
   ]
  },
  {
   "cell_type": "code",
   "execution_count": 234,
   "metadata": {},
   "outputs": [],
   "source": [
    "def clear_cache():\n",
    "    dir = \"E:/EEG Analysis/CLASSIFIER/scrape\"\n",
    "    filelist = [ f for f in os.listdir(dir) ]\n",
    "    for f in filelist:\n",
    "        os.remove(os.path.join(dir, f))\n",
    "\n",
    "def predict():\n",
    "    edf_location = r\"E:/EEG Analysis/CLASSIFIER/EDF/evaluate.edf\"\n",
    "    report_location = r\"E:/EEG Analysis/CLASSIFIER/Report/report.txt\"\n",
    "    text_eval = process_text(report_location)\n",
    "    process_edf(edf_location)\n",
    "    print(\"Finished!\")\n",
    "    clear_cache()\n",
    "    print(\"Cache in the scrape folder has been cleared.\")"
   ]
  },
  {
   "cell_type": "markdown",
   "metadata": {},
   "source": [
    "# Run the function below "
   ]
  },
  {
   "cell_type": "code",
   "execution_count": 237,
   "metadata": {},
   "outputs": [
    {
     "name": "stdout",
     "output_type": "stream",
     "text": [
      "84 seconds of data recorded.\n",
      "Processing EDF file. . .\n"
     ]
    },
    {
     "data": {
      "application/vnd.jupyter.widget-view+json": {
       "model_id": "fe248e46ff6549f2a5fc486338a2f266",
       "version_major": 2,
       "version_minor": 0
      },
      "text/plain": [
       "HBox(children=(IntProgress(value=0, max=84), HTML(value='')))"
      ]
     },
     "metadata": {},
     "output_type": "display_data"
    },
    {
     "data": {
      "image/png": "[encoded data removed]",
      "text/plain": [
       "<Figure size 720x720 with 1 Axes>"
      ]
     },
     "metadata": {},
     "output_type": "display_data"
    },
    {
     "name": "stdout",
     "output_type": "stream",
     "text": [
      "Finished!\n",
      "Cache in the scrape folder has been cleared.\n"
     ]
    }
   ],
   "source": [
    "predict()"
   ]
  },
  {
   "cell_type": "code",
   "execution_count": null,
   "metadata": {},
   "outputs": [],
   "source": []
  }
 ],
 "metadata": {
  "kernelspec": {
   "display_name": "Python 3",
   "language": "python",
   "name": "python3"
  },
  "language_info": {
   "codemirror_mode": {
    "name": "ipython",
    "version": 3
   },
   "file_extension": ".py",
   "mimetype": "text/x-python",
   "name": "python",
   "nbconvert_exporter": "python",
   "pygments_lexer": "ipython3",
   "version": "3.6.5"
  }
 },
 "nbformat": 4,
 "nbformat_minor": 2
}

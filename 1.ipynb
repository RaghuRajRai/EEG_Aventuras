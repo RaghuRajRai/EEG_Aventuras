{
 "cells": [
  {
   "cell_type": "code",
   "execution_count": 7,
   "metadata": {},
   "outputs": [],
   "source": [
    "import numpy as np\n",
    "import pandas as pd\n",
    "import pyedflib"
   ]
  },
  {
   "cell_type": "code",
   "execution_count": null,
   "metadata": {},
   "outputs": [],
   "source": []
  },
  {
   "cell_type": "code",
   "execution_count": 3,
   "metadata": {},
   "outputs": [],
   "source": [
    "#Loading the EDF file\n",
    "f = pyedflib.EdfReader(\"E:\\\\EEG DATA\\\\v1.3.0\\\\edf\\\\train\\\\02_tcp_le\\\\006\\\\00000609\\\\s001_2003_10_22\\\\00000609_s001_t000.edf\")"
   ]
  },
  {
   "cell_type": "code",
   "execution_count": 6,
   "metadata": {},
   "outputs": [
    {
     "data": {
      "text/plain": [
       "514"
      ]
     },
     "execution_count": 6,
     "metadata": {},
     "output_type": "execute_result"
    }
   ],
   "source": [
    "#Duration of recording\n",
    "f.file_duration"
   ]
  },
  {
   "cell_type": "code",
   "execution_count": 14,
   "metadata": {},
   "outputs": [
    {
     "data": {
      "text/plain": [
       "{'technician': '',\n",
       " 'recording_additional': '',\n",
       " 'patientname': '',\n",
       " 'patient_additional': '',\n",
       " 'patientcode': '',\n",
       " 'equipment': '',\n",
       " 'admincode': '',\n",
       " 'gender': '',\n",
       " 'startdate': datetime.datetime(2003, 10, 22, 9, 47, 14),\n",
       " 'birthdate': ''}"
      ]
     },
     "execution_count": 14,
     "metadata": {},
     "output_type": "execute_result"
    }
   ],
   "source": [
    "f.getHeader()"
   ]
  },
  {
   "cell_type": "code",
   "execution_count": 41,
   "metadata": {},
   "outputs": [
    {
     "name": "stdout",
     "output_type": "stream",
     "text": [
      "0 - EEG FP1-LE\n",
      "1 - EEG FP2-LE\n",
      "2 - EEG F3-LE\n",
      "3 - EEG F4-LE\n",
      "4 - EEG C3-LE\n",
      "5 - EEG C4-LE\n",
      "6 - EEG A1-LE\n",
      "7 - EEG A2-LE\n",
      "8 - EEG P3-LE\n",
      "9 - EEG P4-LE\n",
      "10 - EEG O1-LE\n",
      "11 - EEG O2-LE\n",
      "12 - EEG F7-LE\n",
      "13 - EEG F8-LE\n",
      "14 - EEG T3-LE\n",
      "15 - EEG T4-LE\n",
      "16 - EEG T5-LE\n",
      "17 - EEG T6-LE\n",
      "18 - EEG FZ-LE\n",
      "19 - EEG CZ-LE\n",
      "20 - EEG PZ-LE\n",
      "21 - EEG OZ-LE\n",
      "22 - EEG PG1-LE\n",
      "23 - EEG PG2-LE\n",
      "24 - EEG EKG-LE\n",
      "25 - EEG SP2-LE\n",
      "26 - EEG SP1-LE\n",
      "27 - EEG RLC-LE\n",
      "28 - EEG LUC-LE\n",
      "29 - EEG 30-LE\n",
      "30 - EEG T1-LE\n",
      "31 - EEG T2-LE\n",
      "32 - PHOTIC PH\n"
     ]
    }
   ],
   "source": [
    "#for i in range(32):\n",
    " #   print(f.getPhysicalDimension(chn=i), i)\n",
    "    \n",
    "for i in range(33):\n",
    "    print(i, \"-\",f.getLabel(chn=i))"
   ]
  },
  {
   "cell_type": "code",
   "execution_count": 43,
   "metadata": {},
   "outputs": [
    {
     "data": {
      "text/plain": [
       "'HP:-1.000 Hz LP:-2.0 Hz N:0.0'"
      ]
     },
     "execution_count": 43,
     "metadata": {},
     "output_type": "execute_result"
    }
   ],
   "source": [
    "f.getPrefilter(chn=1)"
   ]
  },
  {
   "cell_type": "code",
   "execution_count": 47,
   "metadata": {},
   "outputs": [
    {
     "name": "stdout",
     "output_type": "stream",
     "text": [
      "file name: E:\\EEG DATA\\v1.3.0\\edf\\train\\02_tcp_le\\006\\00000609\\s001_2003_10_22\\00000609_s001_t000.edf\n",
      "signals in file: 33\n",
      "label: EEG FP1-LE fs: 250 nsamples 128500\n",
      "label: EEG FP2-LE fs: 250 nsamples 128500\n",
      "label: EEG F3-LE fs: 250 nsamples 128500\n",
      "label: EEG F4-LE fs: 250 nsamples 128500\n",
      "label: EEG C3-LE fs: 250 nsamples 128500\n",
      "label: EEG C4-LE fs: 250 nsamples 128500\n",
      "label: EEG A1-LE fs: 250 nsamples 128500\n",
      "label: EEG A2-LE fs: 250 nsamples 128500\n",
      "label: EEG P3-LE fs: 250 nsamples 128500\n",
      "label: EEG P4-LE fs: 250 nsamples 128500\n",
      "label: EEG O1-LE fs: 250 nsamples 128500\n",
      "label: EEG O2-LE fs: 250 nsamples 128500\n",
      "label: EEG F7-LE fs: 250 nsamples 128500\n",
      "label: EEG F8-LE fs: 250 nsamples 128500\n",
      "label: EEG T3-LE fs: 250 nsamples 128500\n",
      "label: EEG T4-LE fs: 250 nsamples 128500\n",
      "label: EEG T5-LE fs: 250 nsamples 128500\n",
      "label: EEG T6-LE fs: 250 nsamples 128500\n",
      "label: EEG FZ-LE fs: 250 nsamples 128500\n",
      "label: EEG CZ-LE fs: 250 nsamples 128500\n",
      "label: EEG PZ-LE fs: 250 nsamples 128500\n",
      "label: EEG OZ-LE fs: 250 nsamples 128500\n",
      "label: EEG PG1-LE fs: 250 nsamples 128500\n",
      "label: EEG PG2-LE fs: 250 nsamples 128500\n",
      "label: EEG EKG-LE fs: 250 nsamples 128500\n",
      "label: EEG SP2-LE fs: 250 nsamples 128500\n",
      "label: EEG SP1-LE fs: 250 nsamples 128500\n",
      "label: EEG RLC-LE fs: 250 nsamples 128500\n",
      "label: EEG LUC-LE fs: 250 nsamples 128500\n",
      "label: EEG 30-LE fs: 250 nsamples 128500\n",
      "label: EEG T1-LE fs: 250 nsamples 128500\n",
      "label: EEG T2-LE fs: 250 nsamples 128500\n",
      "label: PHOTIC PH fs: 250 nsamples 128500\n"
     ]
    }
   ],
   "source": [
    "f.file_info_long()"
   ]
  },
  {
   "cell_type": "code",
   "execution_count": 49,
   "metadata": {},
   "outputs": [
    {
     "data": {
      "text/plain": [
       "['EEG FP1-LE',\n",
       " 'EEG FP2-LE',\n",
       " 'EEG F3-LE',\n",
       " 'EEG F4-LE',\n",
       " 'EEG C3-LE',\n",
       " 'EEG C4-LE',\n",
       " 'EEG A1-LE',\n",
       " 'EEG A2-LE',\n",
       " 'EEG P3-LE',\n",
       " 'EEG P4-LE',\n",
       " 'EEG O1-LE',\n",
       " 'EEG O2-LE',\n",
       " 'EEG F7-LE',\n",
       " 'EEG F8-LE',\n",
       " 'EEG T3-LE',\n",
       " 'EEG T4-LE',\n",
       " 'EEG T5-LE',\n",
       " 'EEG T6-LE',\n",
       " 'EEG FZ-LE',\n",
       " 'EEG CZ-LE',\n",
       " 'EEG PZ-LE',\n",
       " 'EEG OZ-LE',\n",
       " 'EEG PG1-LE',\n",
       " 'EEG PG2-LE',\n",
       " 'EEG EKG-LE',\n",
       " 'EEG SP2-LE',\n",
       " 'EEG SP1-LE',\n",
       " 'EEG RLC-LE',\n",
       " 'EEG LUC-LE',\n",
       " 'EEG 30-LE',\n",
       " 'EEG T1-LE',\n",
       " 'EEG T2-LE',\n",
       " 'PHOTIC PH']"
      ]
     },
     "execution_count": 49,
     "metadata": {},
     "output_type": "execute_result"
    }
   ],
   "source": [
    "f.getSignalLabels()"
   ]
  },
  {
   "cell_type": "code",
   "execution_count": 53,
   "metadata": {},
   "outputs": [
    {
     "data": {
      "text/plain": [
       "514"
      ]
     },
     "execution_count": 53,
     "metadata": {},
     "output_type": "execute_result"
    }
   ],
   "source": [
    "f.datarecords_in_file"
   ]
  },
  {
   "cell_type": "code",
   "execution_count": 54,
   "metadata": {},
   "outputs": [],
   "source": [
    "n = f.signals_in_file\n",
    "signal_labels = f.getSignalLabels()\n",
    "sigbufs = np.zeros((n, f.getNSamples()[0]))\n",
    "for i in np.arange(n):\n",
    "     sigbufs[i, :] = f.readSignal(i)"
   ]
  },
  {
   "cell_type": "code",
   "execution_count": 55,
   "metadata": {},
   "outputs": [
    {
     "data": {
      "text/plain": [
       "['EEG FP1-LE',\n",
       " 'EEG FP2-LE',\n",
       " 'EEG F3-LE',\n",
       " 'EEG F4-LE',\n",
       " 'EEG C3-LE',\n",
       " 'EEG C4-LE',\n",
       " 'EEG A1-LE',\n",
       " 'EEG A2-LE',\n",
       " 'EEG P3-LE',\n",
       " 'EEG P4-LE',\n",
       " 'EEG O1-LE',\n",
       " 'EEG O2-LE',\n",
       " 'EEG F7-LE',\n",
       " 'EEG F8-LE',\n",
       " 'EEG T3-LE',\n",
       " 'EEG T4-LE',\n",
       " 'EEG T5-LE',\n",
       " 'EEG T6-LE',\n",
       " 'EEG FZ-LE',\n",
       " 'EEG CZ-LE',\n",
       " 'EEG PZ-LE',\n",
       " 'EEG OZ-LE',\n",
       " 'EEG PG1-LE',\n",
       " 'EEG PG2-LE',\n",
       " 'EEG EKG-LE',\n",
       " 'EEG SP2-LE',\n",
       " 'EEG SP1-LE',\n",
       " 'EEG RLC-LE',\n",
       " 'EEG LUC-LE',\n",
       " 'EEG 30-LE',\n",
       " 'EEG T1-LE',\n",
       " 'EEG T2-LE',\n",
       " 'PHOTIC PH']"
      ]
     },
     "execution_count": 55,
     "metadata": {},
     "output_type": "execute_result"
    }
   ],
   "source": [
    "signal_labels"
   ]
  },
  {
   "cell_type": "code",
   "execution_count": 57,
   "metadata": {},
   "outputs": [
    {
     "data": {
      "text/plain": [
       "(33, 128500)"
      ]
     },
     "execution_count": 57,
     "metadata": {},
     "output_type": "execute_result"
    }
   ],
   "source": [
    "sigbufs.shape"
   ]
  },
  {
   "cell_type": "code",
   "execution_count": 62,
   "metadata": {},
   "outputs": [
    {
     "name": "stdout",
     "output_type": "stream",
     "text": [
      "[-21.36231574 -27.46583453 -27.46583453 ...  -9.76563005 -13.12256539\n",
      " -20.14161199]\n",
      "[-21.36231574 -24.41407514 -14.0380932  ...  37.23146458  22.88819544\n",
      "  34.48488113]\n",
      "[-44.25051119 -61.64553972 -55.84719687 ... -59.20413221 -50.65920591\n",
      " -43.64015931]\n",
      "[-32.34864956 -30.21241798 -25.02442701 ...  15.5639729   20.14161199\n",
      "  13.12256539]\n",
      "[-54.01614124 -74.15775323 -66.83353069 ... -65.00247505 -62.86624348\n",
      " -62.2558916 ]\n",
      "[-47.91262246 -41.80910367 -32.6538255  ... -19.83643605 -15.25879696\n",
      " -18.61573229]\n",
      "[-50.96438185 -50.35402997 -51.87990967 ... -72.32669759 -76.90433668\n",
      " -73.24222541]\n",
      "[-36.92628864 -40.28322398 -39.06252022 ... -18.31055635 -14.64844508\n",
      " -17.39502853]\n",
      "[-20.75196387 -25.63477889 -18.92090823 ... -29.29689016 -26.55030671\n",
      " -31.1279458 ]\n",
      "[-56.45754875 -58.59378033 -54.32131718 ... -25.32960295 -21.05713981\n",
      " -22.27784356]\n",
      "[42.41945555 42.41945555 47.60744652 ... -8.23975036 -7.32422254\n",
      " -7.62939848]\n",
      "[11.29150975 12.81738945 14.64844508 ...  5.18799097  7.93457442\n",
      "  1.83105564]\n",
      "[ -61.03518784  -68.96976226  -64.08694723 ...  -93.07866146  -98.26665242\n",
      " -101.31841182]\n",
      "[-55.236845   -48.21779839 -43.33498337 ...  -3.35693533   4.27246315\n",
      "  -1.83105564]\n",
      "[-47.91262246 -55.84719687 -51.87990967 ... -78.43021638 -80.26127201\n",
      " -82.70267953]\n",
      "[-19.83643605 -20.75196387 -17.0898526  ...  -2.13623157  10.37598193\n",
      "  22.27784356]\n",
      "[ -66.83353069  -66.83353069  -54.01614124 ... -106.81157872 -107.72710654\n",
      " -106.50640278]\n",
      "[-41.80910367 -42.11427961 -38.1469924  ... -33.56935331 -34.17970519\n",
      " -40.28322398]\n",
      "[-58.28860439 -60.7300119  -55.84719687 ... -13.42774133 -12.20703757\n",
      " -16.47950072]\n",
      "[-64.69729911 -66.22317881 -59.20413221 ... -23.80372326 -23.49854732\n",
      " -27.46583453]\n",
      "[-68.66458632 -70.19046602 -66.22317881 ... -49.13332621 -49.74367809\n",
      " -53.40578936]\n",
      "[-682.37340007 -694.2752617  -702.51501205 ...  253.60120548  451.66039003\n",
      "  289.61196631]\n",
      "[ 288.69643849  296.32583697  307.31217078 ... -371.39911802 2502.4427015\n",
      "  411.37716605]\n",
      "[-50.04885403 -49.43850215 -47.60744652 ... -51.87990967 -52.49026154\n",
      " -54.32131718]\n",
      "[104.67534715 115.9668569  122.9859035  ... -45.77639088 -45.166039\n",
      " -46.99709464]\n",
      "[ 67.44388256  70.8008179   61.64553972 ... 226.13537095 652.16098209\n",
      " 326.84343089]\n",
      "[-16.47950072 -14.64844508 -20.75196387 ... -17.0898526  -15.25879696\n",
      " -17.70020447]\n",
      "[-10.68115787  -6.40869472 -10.68115787 ...  10.68115787  12.51221351\n",
      "   5.79834284]\n",
      "[-66.83353069 -63.17141942 -62.2558916  ... -83.3130314  -86.66996673\n",
      " -94.60454115]\n",
      "[-27.46583453 -27.16065859 -32.95900143 ... -28.68653829 -20.44678793\n",
      " -27.46583453]\n",
      "[-29.6020661  -32.04347362 -20.44678793 ... -39.6728721  -44.86086306\n",
      " -54.32131718]\n",
      "[-19.83643605 -16.17432478 -19.83643605 ...  12.81738945  13.73291726\n",
      "  12.20703757]\n",
      "[0. 0. 0. ... 0. 0. 0.]\n"
     ]
    }
   ],
   "source": [
    "for i in range(33):\n",
    "    print(sigbufs[i,:])"
   ]
  },
  {
   "cell_type": "code",
   "execution_count": 71,
   "metadata": {},
   "outputs": [
    {
     "data": {
      "image/png": "[encoded data removed]",
      "text/plain": [
       "<Figure size 432x288 with 1 Axes>"
      ]
     },
     "metadata": {},
     "output_type": "display_data"
    }
   ],
   "source": [
    "import matplotlib.pyplot as plt\n",
    "\n",
    "plt.plot(sigbufs[0,0:172])\n",
    "plt.show()"
   ]
  },
  {
   "cell_type": "code",
   "execution_count": 72,
   "metadata": {},
   "outputs": [
    {
     "data": {
      "text/plain": [
       "[<matplotlib.lines.Line2D at 0x229efcb2400>]"
      ]
     },
     "execution_count": 72,
     "metadata": {},
     "output_type": "execute_result"
    },
    {
     "data": {
      "image/png": "[encoded data removed]",
      "text/plain": [
       "<Figure size 432x288 with 1 Axes>"
      ]
     },
     "metadata": {},
     "output_type": "display_data"
    }
   ],
   "source": [
    "plt.plot(sigbufs[0,172:344])"
   ]
  },
  {
   "cell_type": "code",
   "execution_count": 74,
   "metadata": {},
   "outputs": [
    {
     "data": {
      "text/plain": [
       "(33, 128500)"
      ]
     },
     "execution_count": 74,
     "metadata": {},
     "output_type": "execute_result"
    }
   ],
   "source": [
    "sigbufs.shape"
   ]
  },
  {
   "cell_type": "code",
   "execution_count": 75,
   "metadata": {},
   "outputs": [
    {
     "data": {
      "text/plain": [
       "250.0"
      ]
     },
     "execution_count": 75,
     "metadata": {},
     "output_type": "execute_result"
    }
   ],
   "source": [
    "#Splits in every second\n",
    "128500/514"
   ]
  },
  {
   "cell_type": "code",
   "execution_count": null,
   "metadata": {},
   "outputs": [],
   "source": []
  }
 ],
 "metadata": {
  "kernelspec": {
   "display_name": "Python 3",
   "language": "python",
   "name": "python3"
  },
  "language_info": {
   "codemirror_mode": {
    "name": "ipython",
    "version": 3
   },
   "file_extension": ".py",
   "mimetype": "text/x-python",
   "name": "python",
   "nbconvert_exporter": "python",
   "pygments_lexer": "ipython3",
   "version": "3.6.5"
  }
 },
 "nbformat": 4,
 "nbformat_minor": 2
}

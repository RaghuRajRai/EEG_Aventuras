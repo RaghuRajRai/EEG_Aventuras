{
 "cells": [
  {
   "cell_type": "code",
   "execution_count": 50,
   "metadata": {},
   "outputs": [],
   "source": [
    "import pandas as pd\n",
    "from numpy import random\n",
    "import keras"
   ]
  },
  {
   "cell_type": "code",
   "execution_count": 4,
   "metadata": {},
   "outputs": [
    {
     "data": {
      "text/html": [
       "<div>\n",
       "<style scoped>\n",
       "    .dataframe tbody tr th:only-of-type {\n",
       "        vertical-align: middle;\n",
       "    }\n",
       "\n",
       "    .dataframe tbody tr th {\n",
       "        vertical-align: top;\n",
       "    }\n",
       "\n",
       "    .dataframe thead th {\n",
       "        text-align: right;\n",
       "    }\n",
       "</style>\n",
       "<table border=\"1\" class=\"dataframe\">\n",
       "  <thead>\n",
       "    <tr style=\"text-align: right;\">\n",
       "      <th></th>\n",
       "      <th>main_index</th>\n",
       "      <th>secondary_index</th>\n",
       "      <th>tse_location</th>\n",
       "      <th>edf_location</th>\n",
       "      <th>start_time</th>\n",
       "      <th>stop_time</th>\n",
       "      <th>label</th>\n",
       "    </tr>\n",
       "  </thead>\n",
       "  <tbody>\n",
       "    <tr>\n",
       "      <th>0</th>\n",
       "      <td>0</td>\n",
       "      <td>0</td>\n",
       "      <td>E:/EEG DATA/train_ordered/02_tcp_le/Formatted/...</td>\n",
       "      <td>E:/EEG DATA/train_ordered/02_tcp_le/Formatted/...</td>\n",
       "      <td>0.0</td>\n",
       "      <td>336.000</td>\n",
       "      <td>bckg</td>\n",
       "    </tr>\n",
       "    <tr>\n",
       "      <th>1</th>\n",
       "      <td>1</td>\n",
       "      <td>0</td>\n",
       "      <td>E:/EEG DATA/train_ordered/02_tcp_le/Formatted/...</td>\n",
       "      <td>E:/EEG DATA/train_ordered/02_tcp_le/Formatted/...</td>\n",
       "      <td>0.0</td>\n",
       "      <td>352.000</td>\n",
       "      <td>bckg</td>\n",
       "    </tr>\n",
       "    <tr>\n",
       "      <th>2</th>\n",
       "      <td>2</td>\n",
       "      <td>0</td>\n",
       "      <td>E:/EEG DATA/train_ordered/02_tcp_le/Formatted/...</td>\n",
       "      <td>E:/EEG DATA/train_ordered/02_tcp_le/Formatted/...</td>\n",
       "      <td>0.0</td>\n",
       "      <td>306.000</td>\n",
       "      <td>bckg</td>\n",
       "    </tr>\n",
       "    <tr>\n",
       "      <th>3</th>\n",
       "      <td>3</td>\n",
       "      <td>0</td>\n",
       "      <td>E:/EEG DATA/train_ordered/02_tcp_le/Formatted/...</td>\n",
       "      <td>E:/EEG DATA/train_ordered/02_tcp_le/Formatted/...</td>\n",
       "      <td>0.0</td>\n",
       "      <td>275.000</td>\n",
       "      <td>bckg</td>\n",
       "    </tr>\n",
       "    <tr>\n",
       "      <th>4</th>\n",
       "      <td>4</td>\n",
       "      <td>0</td>\n",
       "      <td>E:/EEG DATA/train_ordered/02_tcp_le/Formatted/...</td>\n",
       "      <td>E:/EEG DATA/train_ordered/02_tcp_le/Formatted/...</td>\n",
       "      <td>0.0</td>\n",
       "      <td>1273.452</td>\n",
       "      <td>bckg</td>\n",
       "    </tr>\n",
       "  </tbody>\n",
       "</table>\n",
       "</div>"
      ],
      "text/plain": [
       "   main_index  secondary_index  \\\n",
       "0           0                0   \n",
       "1           1                0   \n",
       "2           2                0   \n",
       "3           3                0   \n",
       "4           4                0   \n",
       "\n",
       "                                        tse_location  \\\n",
       "0  E:/EEG DATA/train_ordered/02_tcp_le/Formatted/...   \n",
       "1  E:/EEG DATA/train_ordered/02_tcp_le/Formatted/...   \n",
       "2  E:/EEG DATA/train_ordered/02_tcp_le/Formatted/...   \n",
       "3  E:/EEG DATA/train_ordered/02_tcp_le/Formatted/...   \n",
       "4  E:/EEG DATA/train_ordered/02_tcp_le/Formatted/...   \n",
       "\n",
       "                                        edf_location  start_time  stop_time  \\\n",
       "0  E:/EEG DATA/train_ordered/02_tcp_le/Formatted/...         0.0    336.000   \n",
       "1  E:/EEG DATA/train_ordered/02_tcp_le/Formatted/...         0.0    352.000   \n",
       "2  E:/EEG DATA/train_ordered/02_tcp_le/Formatted/...         0.0    306.000   \n",
       "3  E:/EEG DATA/train_ordered/02_tcp_le/Formatted/...         0.0    275.000   \n",
       "4  E:/EEG DATA/train_ordered/02_tcp_le/Formatted/...         0.0   1273.452   \n",
       "\n",
       "  label  \n",
       "0  bckg  \n",
       "1  bckg  \n",
       "2  bckg  \n",
       "3  bckg  \n",
       "4  bckg  "
      ]
     },
     "execution_count": 4,
     "metadata": {},
     "output_type": "execute_result"
    }
   ],
   "source": [
    "data = pd.read_csv(r\"E:\\EEG DATA\\train_ordered\\02_tcp_le\\final\\meta_final.csv\")\n",
    "data.head()"
   ]
  },
  {
   "cell_type": "code",
   "execution_count": 8,
   "metadata": {},
   "outputs": [
    {
     "data": {
      "text/plain": [
       "231"
      ]
     },
     "execution_count": 8,
     "metadata": {},
     "output_type": "execute_result"
    }
   ],
   "source": [
    "(data['stop_time'] - data['start_time']).idxmax()"
   ]
  },
  {
   "cell_type": "code",
   "execution_count": 9,
   "metadata": {},
   "outputs": [],
   "source": [
    "maxlen = 231*250"
   ]
  },
  {
   "cell_type": "code",
   "execution_count": 19,
   "metadata": {},
   "outputs": [],
   "source": [
    "#Folder to load the data from\n",
    "folder = \"E:\\\\EEG DATA\\\\train_ordered\\\\02_tcp_le\\\\final\\\\\"\n",
    "features = []\n",
    "\n",
    "#Making a feature matrix - Links of all CSVs to be loaded\n",
    "for i in range(509):\n",
    "        features.append(folder+str(i)+\".csv\")"
   ]
  },
  {
   "cell_type": "code",
   "execution_count": 70,
   "metadata": {},
   "outputs": [],
   "source": [
    "def load_and_process(link):\n",
    "    #Read data into a dataframe\n",
    "    data = pd.read_csv(link, header=None)\n",
    "    #Convert dataframe to numpy matrix for padding\n",
    "    data = data.values\n",
    "    #Pad sequences as per maxlen\n",
    "    data = keras.preprocessing.sequence.pad_sequences(data, padding='post', maxlen=maxlen)\n",
    "    return data \n",
    "\n",
    "#Making a generator \n",
    "def generator(features, labels):\n",
    "    #Pick a random index\n",
    "    index= random.choice(len(features),1)\n",
    "    #Load and preprocess the data for that index\n",
    "    batch_features = load_and_process(features[index[0]])\n",
    "    #Get label for index\n",
    "    batch_labels = labels[index[0]]\n",
    "    #YEILD TO THE OVERLORDS!\n",
    "    yield batch_features, batch_labels"
   ]
  },
  {
   "cell_type": "code",
   "execution_count": 71,
   "metadata": {},
   "outputs": [
    {
     "name": "stdout",
     "output_type": "stream",
     "text": [
      "(array([[   95,    16,  -127, ...,  -173,  -262,  -136],\n",
      "       [   71,    -4,  -141, ...,  -238,  -318,  -208],\n",
      "       [   29,   -17,   -88, ...,  -158,  -231,  -145],\n",
      "       ...,\n",
      "       [-1057,  4999,  2017, ...,  4999, -1520, -5000],\n",
      "       [    1,   -11,   -21, ...,  -216,  -238,  -251],\n",
      "       [   15,     3,    -6, ...,  -191,  -171,  -187]]), 'bckg')\n"
     ]
    }
   ],
   "source": [
    "#Visualizing what the generator is actually returning\n",
    "N = generator(features, data['label'])\n",
    "print(*N, sep='\\n')"
   ]
  },
  {
   "cell_type": "code",
   "execution_count": null,
   "metadata": {},
   "outputs": [],
   "source": []
  },
  {
   "cell_type": "code",
   "execution_count": null,
   "metadata": {},
   "outputs": [],
   "source": []
  },
  {
   "cell_type": "code",
   "execution_count": null,
   "metadata": {},
   "outputs": [],
   "source": []
  },
  {
   "cell_type": "code",
   "execution_count": null,
   "metadata": {},
   "outputs": [],
   "source": []
  }
 ],
 "metadata": {
  "kernelspec": {
   "display_name": "Python 3",
   "language": "python",
   "name": "python3"
  },
  "language_info": {
   "codemirror_mode": {
    "name": "ipython",
    "version": 3
   },
   "file_extension": ".py",
   "mimetype": "text/x-python",
   "name": "python",
   "nbconvert_exporter": "python",
   "pygments_lexer": "ipython3",
   "version": "3.6.5"
  }
 },
 "nbformat": 4,
 "nbformat_minor": 2
}
